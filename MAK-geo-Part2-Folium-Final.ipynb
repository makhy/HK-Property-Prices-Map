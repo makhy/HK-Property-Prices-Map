{
 "cells": [
  {
   "cell_type": "code",
   "execution_count": 100,
   "metadata": {},
   "outputs": [],
   "source": [
    "import os\n",
    "import pandas as pd\n",
    "from bokeh.io import show, output_file\n",
    "from bokeh.models import (GMapPlot, GMapOptions, ColumnDataSource,\n",
    "                         Circle, DataRange1d, PanTool,\n",
    "                         WheelZoomTool, BoxSelectTool, Range1d)\n",
    "import folium\n",
    "from folium.plugins import MarkerCluster\n",
    "import webbrowser\n",
    "from IPython.display import HTML, display"
   ]
  },
  {
   "cell_type": "code",
   "execution_count": 101,
   "metadata": {},
   "outputs": [],
   "source": [
    "#https://towardsdatascience.com/data-visualization-with-python-folium-maps-a74231de9ef7\n",
    "    \n",
    "latitude = 22.312287\n",
    "longitude = 114.181424\n",
    "map = folium.Map(location=[latitude, longitude], zoom_start=12.5, tiles = \"Property Prices in HK\")    "
   ]
  },
  {
   "cell_type": "code",
   "execution_count": 102,
   "metadata": {},
   "outputs": [],
   "source": [
    "df0 = pd.read_csv(\"makgeo.csv\", index_col = 0)\n",
    "df = df0.groupby(\"area\").mean()"
   ]
  },
  {
   "cell_type": "code",
   "execution_count": 103,
   "metadata": {},
   "outputs": [
    {
     "data": {
      "text/html": [
       "<div>\n",
       "<style scoped>\n",
       "    .dataframe tbody tr th:only-of-type {\n",
       "        vertical-align: middle;\n",
       "    }\n",
       "\n",
       "    .dataframe tbody tr th {\n",
       "        vertical-align: top;\n",
       "    }\n",
       "\n",
       "    .dataframe thead th {\n",
       "        text-align: right;\n",
       "    }\n",
       "</style>\n",
       "<table border=\"1\" class=\"dataframe\">\n",
       "  <thead>\n",
       "    <tr style=\"text-align: right;\">\n",
       "      <th></th>\n",
       "      <th>PROPERTIES PAGE</th>\n",
       "      <th>sell_price</th>\n",
       "      <th>rent_price</th>\n",
       "      <th>bedrooms</th>\n",
       "      <th>living_rooms</th>\n",
       "      <th>years</th>\n",
       "      <th>efficiency_ratio</th>\n",
       "      <th>lat</th>\n",
       "      <th>long</th>\n",
       "    </tr>\n",
       "    <tr>\n",
       "      <th>area</th>\n",
       "      <th></th>\n",
       "      <th></th>\n",
       "      <th></th>\n",
       "      <th></th>\n",
       "      <th></th>\n",
       "      <th></th>\n",
       "      <th></th>\n",
       "      <th></th>\n",
       "      <th></th>\n",
       "    </tr>\n",
       "  </thead>\n",
       "  <tbody>\n",
       "    <tr>\n",
       "      <th>Argyle Street</th>\n",
       "      <td>2.000000</td>\n",
       "      <td>1240.000000</td>\n",
       "      <td>32500.000000</td>\n",
       "      <td>2.500000</td>\n",
       "      <td>2.000000</td>\n",
       "      <td>45.000000</td>\n",
       "      <td>81.500000</td>\n",
       "      <td>41.971680</td>\n",
       "      <td>-87.748466</td>\n",
       "    </tr>\n",
       "    <tr>\n",
       "      <th>Homantin/Kingspark</th>\n",
       "      <td>2.380952</td>\n",
       "      <td>3087.523810</td>\n",
       "      <td>44047.619048</td>\n",
       "      <td>2.904762</td>\n",
       "      <td>2.000000</td>\n",
       "      <td>20.095238</td>\n",
       "      <td>77.700000</td>\n",
       "      <td>22.318507</td>\n",
       "      <td>114.175534</td>\n",
       "    </tr>\n",
       "    <tr>\n",
       "      <th>Hung Hom</th>\n",
       "      <td>1.000000</td>\n",
       "      <td>3800.000000</td>\n",
       "      <td>48000.000000</td>\n",
       "      <td>4.000000</td>\n",
       "      <td>NaN</td>\n",
       "      <td>3.000000</td>\n",
       "      <td>NaN</td>\n",
       "      <td>22.305566</td>\n",
       "      <td>114.188723</td>\n",
       "    </tr>\n",
       "    <tr>\n",
       "      <th>Kadoorie Hill</th>\n",
       "      <td>1.000000</td>\n",
       "      <td>3800.000000</td>\n",
       "      <td>56000.000000</td>\n",
       "      <td>3.000000</td>\n",
       "      <td>2.000000</td>\n",
       "      <td>63.000000</td>\n",
       "      <td>NaN</td>\n",
       "      <td>22.322641</td>\n",
       "      <td>114.175890</td>\n",
       "    </tr>\n",
       "    <tr>\n",
       "      <th>Kln Tong / Beacon Hill</th>\n",
       "      <td>2.388889</td>\n",
       "      <td>4011.333333</td>\n",
       "      <td>56222.222222</td>\n",
       "      <td>3.235294</td>\n",
       "      <td>2.058824</td>\n",
       "      <td>28.277778</td>\n",
       "      <td>80.833333</td>\n",
       "      <td>22.336932</td>\n",
       "      <td>114.176337</td>\n",
       "    </tr>\n",
       "  </tbody>\n",
       "</table>\n",
       "</div>"
      ],
      "text/plain": [
       "                         PROPERTIES PAGE   sell_price    rent_price  bedrooms  \\\n",
       "area                                                                            \n",
       "Argyle Street                   2.000000  1240.000000  32500.000000  2.500000   \n",
       "Homantin/Kingspark              2.380952  3087.523810  44047.619048  2.904762   \n",
       "Hung Hom                        1.000000  3800.000000  48000.000000  4.000000   \n",
       "Kadoorie Hill                   1.000000  3800.000000  56000.000000  3.000000   \n",
       "Kln Tong / Beacon Hill          2.388889  4011.333333  56222.222222  3.235294   \n",
       "\n",
       "                         living_rooms      years  efficiency_ratio        lat  \\\n",
       "area                                                                            \n",
       "Argyle Street                2.000000  45.000000         81.500000  41.971680   \n",
       "Homantin/Kingspark           2.000000  20.095238         77.700000  22.318507   \n",
       "Hung Hom                          NaN   3.000000               NaN  22.305566   \n",
       "Kadoorie Hill                2.000000  63.000000               NaN  22.322641   \n",
       "Kln Tong / Beacon Hill       2.058824  28.277778         80.833333  22.336932   \n",
       "\n",
       "                               long  \n",
       "area                                 \n",
       "Argyle Street            -87.748466  \n",
       "Homantin/Kingspark       114.175534  \n",
       "Hung Hom                 114.188723  \n",
       "Kadoorie Hill            114.175890  \n",
       "Kln Tong / Beacon Hill   114.176337  "
      ]
     },
     "execution_count": 103,
     "metadata": {},
     "output_type": "execute_result"
    }
   ],
   "source": [
    "df.head()"
   ]
  },
  {
   "cell_type": "code",
   "execution_count": 104,
   "metadata": {},
   "outputs": [],
   "source": [
    "df['sell_quartile'] = pd.qcut(df['sell_price'], 4, labels=False)"
   ]
  },
  {
   "cell_type": "code",
   "execution_count": 105,
   "metadata": {},
   "outputs": [
    {
     "data": {
      "text/plain": [
       "Index(['PROPERTIES PAGE', 'sell_price', 'rent_price', 'bedrooms',\n",
       "       'living_rooms', 'years', 'efficiency_ratio', 'lat', 'long',\n",
       "       'sell_quartile'],\n",
       "      dtype='object')"
      ]
     },
     "execution_count": 105,
     "metadata": {},
     "output_type": "execute_result"
    }
   ],
   "source": [
    "df.columns"
   ]
  },
  {
   "cell_type": "code",
   "execution_count": 106,
   "metadata": {},
   "outputs": [],
   "source": [
    "df.reset_index(level=0, inplace=True)"
   ]
  },
  {
   "cell_type": "code",
   "execution_count": 107,
   "metadata": {},
   "outputs": [],
   "source": [
    "df[\"lat\"].iloc[0] = 22.319945\n",
    "df[\"long\"].iloc[0] = 114.168728\n",
    "\n",
    "df[\"lat\"].iloc[7] =22.318098\n",
    "df[\"long\"].iloc[7] =114.160499\n",
    "\n",
    "df[\"lat\"].iloc[8] =22.325893\n",
    "df[\"long\"].iloc[8] =114.177764\n",
    "\n",
    "df[\"lat\"].iloc[9] =22.220680\n",
    "df[\"long\"].iloc[9] =114.213372\n",
    "\n",
    "df[\"lat\"].iloc[13] =22.333023\n",
    "df[\"long\"].iloc[13] =114.178874"
   ]
  },
  {
   "cell_type": "code",
   "execution_count": 108,
   "metadata": {},
   "outputs": [],
   "source": [
    "df = df.fillna('')"
   ]
  },
  {
   "cell_type": "code",
   "execution_count": 109,
   "metadata": {},
   "outputs": [
    {
     "data": {
      "text/html": [
       "<div>\n",
       "<style scoped>\n",
       "    .dataframe tbody tr th:only-of-type {\n",
       "        vertical-align: middle;\n",
       "    }\n",
       "\n",
       "    .dataframe tbody tr th {\n",
       "        vertical-align: top;\n",
       "    }\n",
       "\n",
       "    .dataframe thead th {\n",
       "        text-align: right;\n",
       "    }\n",
       "</style>\n",
       "<table border=\"1\" class=\"dataframe\">\n",
       "  <thead>\n",
       "    <tr style=\"text-align: right;\">\n",
       "      <th></th>\n",
       "      <th>area</th>\n",
       "      <th>PROPERTIES PAGE</th>\n",
       "      <th>sell_price</th>\n",
       "      <th>rent_price</th>\n",
       "      <th>bedrooms</th>\n",
       "      <th>living_rooms</th>\n",
       "      <th>years</th>\n",
       "      <th>efficiency_ratio</th>\n",
       "      <th>lat</th>\n",
       "      <th>long</th>\n",
       "      <th>sell_quartile</th>\n",
       "    </tr>\n",
       "  </thead>\n",
       "  <tbody>\n",
       "    <tr>\n",
       "      <th>0</th>\n",
       "      <td>Argyle Street</td>\n",
       "      <td>2.000000</td>\n",
       "      <td>1240.000000</td>\n",
       "      <td>32500.000000</td>\n",
       "      <td>2.5</td>\n",
       "      <td>2</td>\n",
       "      <td>45.000000</td>\n",
       "      <td>81.5</td>\n",
       "      <td>22.319945</td>\n",
       "      <td>114.168728</td>\n",
       "      <td>0</td>\n",
       "    </tr>\n",
       "    <tr>\n",
       "      <th>1</th>\n",
       "      <td>Homantin/Kingspark</td>\n",
       "      <td>2.380952</td>\n",
       "      <td>3087.523810</td>\n",
       "      <td>44047.619048</td>\n",
       "      <td>2.90476</td>\n",
       "      <td>2</td>\n",
       "      <td>20.095238</td>\n",
       "      <td>77.7</td>\n",
       "      <td>22.318507</td>\n",
       "      <td>114.175534</td>\n",
       "      <td>2</td>\n",
       "    </tr>\n",
       "    <tr>\n",
       "      <th>2</th>\n",
       "      <td>Hung Hom</td>\n",
       "      <td>1.000000</td>\n",
       "      <td>3800.000000</td>\n",
       "      <td>48000.000000</td>\n",
       "      <td>4</td>\n",
       "      <td></td>\n",
       "      <td>3.000000</td>\n",
       "      <td></td>\n",
       "      <td>22.305566</td>\n",
       "      <td>114.188723</td>\n",
       "      <td>3</td>\n",
       "    </tr>\n",
       "    <tr>\n",
       "      <th>3</th>\n",
       "      <td>Kadoorie Hill</td>\n",
       "      <td>1.000000</td>\n",
       "      <td>3800.000000</td>\n",
       "      <td>56000.000000</td>\n",
       "      <td>3</td>\n",
       "      <td>2</td>\n",
       "      <td>63.000000</td>\n",
       "      <td></td>\n",
       "      <td>22.322641</td>\n",
       "      <td>114.175890</td>\n",
       "      <td>3</td>\n",
       "    </tr>\n",
       "    <tr>\n",
       "      <th>4</th>\n",
       "      <td>Kln Tong / Beacon Hill</td>\n",
       "      <td>2.388889</td>\n",
       "      <td>4011.333333</td>\n",
       "      <td>56222.222222</td>\n",
       "      <td>3.23529</td>\n",
       "      <td>2.05882</td>\n",
       "      <td>28.277778</td>\n",
       "      <td>80.8333</td>\n",
       "      <td>22.336932</td>\n",
       "      <td>114.176337</td>\n",
       "      <td>3</td>\n",
       "    </tr>\n",
       "  </tbody>\n",
       "</table>\n",
       "</div>"
      ],
      "text/plain": [
       "                      area  PROPERTIES PAGE   sell_price    rent_price  \\\n",
       "0           Argyle Street          2.000000  1240.000000  32500.000000   \n",
       "1      Homantin/Kingspark          2.380952  3087.523810  44047.619048   \n",
       "2                Hung Hom          1.000000  3800.000000  48000.000000   \n",
       "3           Kadoorie Hill          1.000000  3800.000000  56000.000000   \n",
       "4  Kln Tong / Beacon Hill          2.388889  4011.333333  56222.222222   \n",
       "\n",
       "  bedrooms living_rooms      years efficiency_ratio        lat        long  \\\n",
       "0      2.5            2  45.000000             81.5  22.319945  114.168728   \n",
       "1  2.90476            2  20.095238             77.7  22.318507  114.175534   \n",
       "2        4                3.000000                   22.305566  114.188723   \n",
       "3        3            2  63.000000                   22.322641  114.175890   \n",
       "4  3.23529      2.05882  28.277778          80.8333  22.336932  114.176337   \n",
       "\n",
       "   sell_quartile  \n",
       "0              0  \n",
       "1              2  \n",
       "2              3  \n",
       "3              3  \n",
       "4              3  "
      ]
     },
     "execution_count": 109,
     "metadata": {},
     "output_type": "execute_result"
    }
   ],
   "source": [
    "df.head()"
   ]
  },
  {
   "cell_type": "code",
   "execution_count": 110,
   "metadata": {},
   "outputs": [],
   "source": [
    "colordict = {0: 'blue', 1: 'green', 2: 'orange', 3: 'red'}"
   ]
  },
  {
   "cell_type": "markdown",
   "metadata": {},
   "source": [
    "import folium\n",
    "from IPython.display import display\n",
    "LDN_COORDINATES = (22.312287, 114.181424)\n",
    "myMap = folium.Map(location=LDN_COORDINATES, zoom_start=12)\n",
    "display(myMap)"
   ]
  },
  {
   "cell_type": "code",
   "execution_count": 111,
   "metadata": {},
   "outputs": [
    {
     "data": {
      "text/html": [
       "<div style=\"width:100%;\"><div style=\"position:relative;width:100%;height:0;padding-bottom:60%;\"><iframe src=\"data:text/html;charset=utf-8;base64,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\" style=\"position:absolute;width:100%;height:100%;left:0;top:0;border:none !important;\" allowfullscreen webkitallowfullscreen mozallowfullscreen></iframe></div></div>"
      ],
      "text/plain": [
       "<folium.folium.Map at 0x1167c9890>"
      ]
     },
     "execution_count": 111,
     "metadata": {},
     "output_type": "execute_result"
    }
   ],
   "source": [
    "for lat, lon, sq, sp, rent, city in zip(df['lat'], df['long'], df['sell_quartile'], df['sell_price'], df['rent_price'], df['area']):\n",
    "    folium.CircleMarker(\n",
    "        [lat, lon],\n",
    "        radius=.00025*rent,\n",
    "        popup = ('City: ' + str(city).capitalize() + '<br>'\n",
    "                 'Rent: ' + str(rent) + '<br>'\n",
    "                 'Selling Price: ' + str(sp) +'$'\n",
    "                ),\n",
    "        color='b',\n",
    "        key_on = sq,\n",
    "        threshold_scale=[0,1,2,3],\n",
    "        fill_color=colordict[sq],\n",
    "        fill=True,\n",
    "        fill_opacity=0.8\n",
    "        ).add_to(map)\n",
    "map"
   ]
  },
  {
   "cell_type": "code",
   "execution_count": null,
   "metadata": {},
   "outputs": [],
   "source": [
    "#https://stackoverflow.com/questions/52911688/python-folium-choropleth-map-colors-incorrect/52981115#52981115"
   ]
  },
  {
   "cell_type": "code",
   "execution_count": null,
   "metadata": {},
   "outputs": [],
   "source": [
    "m.save('312_markers_on_folium_map1.html')"
   ]
  },
  {
   "cell_type": "code",
   "execution_count": null,
   "metadata": {},
   "outputs": [],
   "source": []
  }
 ],
 "metadata": {
  "kernelspec": {
   "display_name": "Python 3",
   "language": "python",
   "name": "python3"
  },
  "language_info": {
   "codemirror_mode": {
    "name": "ipython",
    "version": 3
   },
   "file_extension": ".py",
   "mimetype": "text/x-python",
   "name": "python",
   "nbconvert_exporter": "python",
   "pygments_lexer": "ipython3",
   "version": "3.7.4"
  }
 },
 "nbformat": 4,
 "nbformat_minor": 2
}
